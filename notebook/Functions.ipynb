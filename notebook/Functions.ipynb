{
 "cells": [
  {
   "cell_type": "code",
   "execution_count": 2,
   "id": "d9b7437e-a657-4ce4-865e-8d37deb90f54",
   "metadata": {},
   "outputs": [
    {
     "name": "stdout",
     "output_type": "stream",
     "text": [
      "{'input_cost': 0.016565, 'output_cost': 0.06, 'total_cost': 0.076565}\n"
     ]
    }
   ],
   "source": [
    "def calculate_openai_cost(prompt_tokens, completion_tokens, model):\n",
    "    # Define pricing per 1 million tokens for each model\n",
    "    pricing = {\n",
    "        'gpt-4o': {'input': 2.50, 'output': 10.00},\n",
    "        'gpt-4o-mini': {'input': 0.15, 'output': 0.60},\n",
    "        'gpt-4-turbo': {'input': 10.00, 'output': 30.00},\n",
    "        'gpt-4': {'input': 30.00, 'output': 60.00},\n",
    "        'gpt-3.5-turbo': {'input': 0.50, 'output': 1.50}\n",
    "    }\n",
    "\n",
    "    # Check if the model is in the pricing dictionary\n",
    "    if model not in pricing:\n",
    "        raise ValueError(f\"Model '{model}' not recognized. Please provide a valid model name.\")\n",
    "\n",
    "    # Retrieve the input and output prices per 1 million tokens\n",
    "    input_price_per_million = pricing[model]['input']\n",
    "    output_price_per_million = pricing[model]['output']\n",
    "\n",
    "    # Calculate the costs\n",
    "    input_cost = (prompt_tokens / 1_000_000) * input_price_per_million\n",
    "    output_cost = (completion_tokens / 1_000_000) * output_price_per_million\n",
    "    total_cost = input_cost + output_cost\n",
    "\n",
    "    return {\n",
    "        'input_cost': input_cost,\n",
    "        'output_cost': output_cost,\n",
    "        'total_cost': total_cost\n",
    "    }\n",
    "\n",
    "# Example usage:\n",
    "result = calculate_openai_cost(prompt_tokens=6626, completion_tokens=6000, model='gpt-4o')\n",
    "print(result)"
   ]
  },
  {
   "cell_type": "code",
   "execution_count": 3,
   "id": "26ac1581-cc68-4042-8a8a-f198aed4b5e0",
   "metadata": {},
   "outputs": [
    {
     "name": "stdout",
     "output_type": "stream",
     "text": [
      "{'input_cost': 0.0031105499999999997, 'output_cost': 0.001377, 'total_cost': 0.00448755}\n"
     ]
    }
   ],
   "source": [
    "result = calculate_openai_cost(prompt_tokens=20737, completion_tokens=2295, model='gpt-4o-mini')\n",
    "print(result)"
   ]
  },
  {
   "cell_type": "markdown",
   "id": "be34179e-1464-43f2-9169-d87f43080d93",
   "metadata": {},
   "source": [
    "what are key elements in ai agents in the context of crewai agents\n",
    "\n",
    "\n",
    "In the context of CrewAI, AI agents are designed with several key elements to enhance their effectiveness and collaboration:\n",
    "\n",
    "Role-Playing: Agents are assigned specific roles and backstories, providing context that influences their behavior and decision-making processes. This role-based approach enables agents to perform tasks more effectively by aligning their actions with their designated personas. \n",
    "DEEPLEARNING.AI\n",
    "\n",
    "Focus: Maintaining a clear focus is crucial for agents to execute tasks efficiently. By concentrating on specific objectives and utilizing appropriate tools, agents can reduce errors and avoid unnecessary complexity. \n",
    "DEEPLEARNING.AI\n",
    "\n",
    "Tools: Agents are equipped with various tools to assist in task execution. These tools can range from web search capabilities to data analysis functions, enabling agents to perform a wide array of tasks effectively. \n",
    "DEEPLEARNING.AI\n",
    "\n",
    "Cooperation: Collaboration among agents is a cornerstone of CrewAI. Agents work together, delegating tasks and sharing information to achieve common goals, thereby enhancing the system's overall efficiency and effectiveness. \n",
    "DEEPLEARNING.AI\n",
    "\n",
    "Guardrails: Implementing guardrails ensures that agents operate within defined boundaries, preventing undesirable behaviors such as infinite loops or hallucinations. These safeguards are essential for maintaining the reliability and safety of the AI system. \n",
    "DEEPLEARNING.AI\n",
    "\n",
    "Memory: Agents utilize memory systems to retain information from past interactions. This includes short-term, long-term, and entity memory, allowing agents to learn from previous experiences and improve their performance over time. \n",
    "CREWAI DOCS\n",
    "\n",
    "By integrating these elements, CrewAI agents are capable of performing complex, multi-step tasks through effective collaboration and autonomous decision-making."
   ]
  },
  {
   "cell_type": "code",
   "execution_count": null,
   "id": "17f77792-23dd-473b-aafe-44937f8d3b8e",
   "metadata": {},
   "outputs": [],
   "source": []
  }
 ],
 "metadata": {
  "kernelspec": {
   "display_name": "Python 3 (ipykernel)",
   "language": "python",
   "name": "python3"
  },
  "language_info": {
   "codemirror_mode": {
    "name": "ipython",
    "version": 3
   },
   "file_extension": ".py",
   "mimetype": "text/x-python",
   "name": "python",
   "nbconvert_exporter": "python",
   "pygments_lexer": "ipython3",
   "version": "3.11.1"
  }
 },
 "nbformat": 4,
 "nbformat_minor": 5
}
