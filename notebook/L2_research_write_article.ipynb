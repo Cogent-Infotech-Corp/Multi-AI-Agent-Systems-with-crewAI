{
 "cells": [
  {
   "cell_type": "markdown",
   "metadata": {},
   "source": [
    "You can download the `requirements.txt` for this course from the workspace of this lab. `File --> Open...`"
   ]
  },
  {
   "cell_type": "markdown",
   "metadata": {},
   "source": [
    "# L2: Create Agents to Research and Write an Article\n",
    "\n",
    "In this lesson, you will be introduced to the foundational concepts of multi-agent systems and get an overview of the crewAI framework."
   ]
  },
  {
   "cell_type": "markdown",
   "metadata": {},
   "source": [
    "The libraries are already installed in the classroom. If you're running this notebook on your own machine, you can install the following:\n",
    "```Python\n",
    "!pip install crewai==0.28.8 crewai_tools==0.1.6 langchain_community==0.0.29\n",
    "```"
   ]
  },
  {
   "cell_type": "code",
   "execution_count": 1,
   "metadata": {},
   "outputs": [],
   "source": [
    "import os\n",
    "\n",
    "os.chdir(\"D:\\\\Learning\\\\AI Agents\\\\Multi-AI-Agent-Systems-with-crewAI\")"
   ]
  },
  {
   "cell_type": "code",
   "execution_count": 2,
   "metadata": {
    "height": 64
   },
   "outputs": [],
   "source": [
    "# Warning control\n",
    "import warnings\n",
    "warnings.filterwarnings('ignore')"
   ]
  },
  {
   "cell_type": "markdown",
   "metadata": {},
   "source": [
    "- Import from the crewAI libray."
   ]
  },
  {
   "cell_type": "code",
   "execution_count": 3,
   "metadata": {
    "height": 30
   },
   "outputs": [],
   "source": [
    "from crewai import Agent, Task, Crew"
   ]
  },
  {
   "cell_type": "markdown",
   "metadata": {},
   "source": [
    "- As a LLM for your agents, you'll be using OpenAI's `gpt-3.5-turbo`.\n",
    "\n",
    "**Optional Note:** crewAI also allow other popular models to be used as a LLM for your Agents. You can see some of the examples at the [bottom of the notebook](#1)."
   ]
  },
  {
   "cell_type": "code",
   "execution_count": 4,
   "metadata": {
    "height": 98
   },
   "outputs": [],
   "source": [
    "# import os\n",
    "# from utils import get_openai_api_key\n",
    "\n",
    "# openai_api_key = get_openai_api_key()\n",
    "# os.environ[\"OPENAI_MODEL_NAME\"] = 'gpt-3.5-turbo'\n",
    "\n",
    "# print(openai_api_key)\n",
    "\n",
    "import os\n",
    "from dotenv import load_dotenv\n",
    "\n",
    "# Load environment variables from .env file\n",
    "env_path = 'config/.env'\n",
    "load_dotenv(dotenv_path=env_path)\n",
    "\n",
    "# Access the OpenAI API key\n",
    "openai_api_key = os.getenv(\"OPENAI_API_KEY\")\n",
    "\n",
    "# Optionally set other environment variables\n",
    "os.environ[\"OPENAI_MODEL_NAME\"] = 'gpt-4o'"
   ]
  },
  {
   "cell_type": "markdown",
   "metadata": {},
   "source": [
    "## Creating Agents\n",
    "\n",
    "- Define your Agents, and provide them a `role`, `goal` and `backstory`.\n",
    "- It has been seen that LLMs perform better when they are role playing."
   ]
  },
  {
   "cell_type": "markdown",
   "metadata": {},
   "source": [
    "### Agent: Planner\n",
    "\n",
    "**Note**: The benefit of using _multiple strings_ :\n",
    "```Python\n",
    "varname = \"line 1 of text\"\n",
    "          \"line 2 of text\"\n",
    "```\n",
    "\n",
    "versus the _triple quote docstring_:\n",
    "```Python\n",
    "varname = \"\"\"line 1 of text\n",
    "             line 2 of text\n",
    "          \"\"\"\n",
    "```\n",
    "is that it can avoid adding those whitespaces and newline characters, making it better formatted to be passed to the LLM."
   ]
  },
  {
   "cell_type": "code",
   "execution_count": 5,
   "metadata": {
    "height": 234
   },
   "outputs": [],
   "source": [
    "planner = Agent(\n",
    "    role=\"Content Planner\",\n",
    "    goal=\"Plan engaging and factually accurate content on {topic}\",\n",
    "    backstory=\"You're working on planning a blog article \"\n",
    "              \"about the topic: {topic}.\"\n",
    "              \"You collect information that helps the \"\n",
    "              \"audience learn something \"\n",
    "              \"and make informed decisions. \"\n",
    "              \"Your work is the basis for \"\n",
    "              \"the Content Writer to write an article on this topic.\",\n",
    "    allow_delegation=False,\n",
    "\tverbose=True\n",
    ")"
   ]
  },
  {
   "cell_type": "markdown",
   "metadata": {},
   "source": [
    "### Agent: Writer"
   ]
  },
  {
   "cell_type": "code",
   "execution_count": 6,
   "metadata": {
    "height": 370
   },
   "outputs": [],
   "source": [
    "writer = Agent(\n",
    "    role=\"Content Writer\",\n",
    "    goal=\"Write insightful and factually accurate \"\n",
    "         \"opinion piece about the topic: {topic}\",\n",
    "    backstory=\"You're working on a writing \"\n",
    "              \"a new opinion piece about the topic: {topic}. \"\n",
    "              \"You base your writing on the work of \"\n",
    "              \"the Content Planner, who provides an outline \"\n",
    "              \"and relevant context about the topic. \"\n",
    "              \"You follow the main objectives and \"\n",
    "              \"direction of the outline, \"\n",
    "              \"as provide by the Content Planner. \"\n",
    "              \"You also provide objective and impartial insights \"\n",
    "              \"and back them up with information \"\n",
    "              \"provide by the Content Planner. \"\n",
    "              \"You acknowledge in your opinion piece \"\n",
    "              \"when your statements are opinions \"\n",
    "              \"as opposed to objective statements.\",\n",
    "    allow_delegation=False,\n",
    "    verbose=True\n",
    ")"
   ]
  },
  {
   "cell_type": "markdown",
   "metadata": {},
   "source": [
    "### Agent: Editor"
   ]
  },
  {
   "cell_type": "code",
   "execution_count": 7,
   "metadata": {
    "height": 268
   },
   "outputs": [],
   "source": [
    "editor = Agent(\n",
    "    role=\"Editor\",\n",
    "    goal=\"Edit a given blog post to align with \"\n",
    "         \"the writing style of the organization. \",\n",
    "    backstory=\"You are an editor who receives a blog post \"\n",
    "              \"from the Content Writer. \"\n",
    "              \"Your goal is to review the blog post \"\n",
    "              \"to ensure that it follows journalistic best practices,\"\n",
    "              \"provides balanced viewpoints \"\n",
    "              \"when providing opinions or assertions, \"\n",
    "              \"and also avoids major controversial topics \"\n",
    "              \"or opinions when possible.\",\n",
    "    allow_delegation=False,\n",
    "    verbose=True\n",
    ")"
   ]
  },
  {
   "cell_type": "markdown",
   "metadata": {},
   "source": [
    "## Creating Tasks\n",
    "\n",
    "- Define your Tasks, and provide them a `description`, `expected_output` and `agent`."
   ]
  },
  {
   "cell_type": "markdown",
   "metadata": {},
   "source": [
    "### Task: Plan"
   ]
  },
  {
   "cell_type": "code",
   "execution_count": 8,
   "metadata": {
    "height": 268
   },
   "outputs": [],
   "source": [
    "plan = Task(\n",
    "    description=(\n",
    "        \"1. Prioritize the latest trends, key players, \"\n",
    "            \"and noteworthy news on {topic}.\\n\"\n",
    "        \"2. Identify the target audience, considering \"\n",
    "            \"their interests and pain points.\\n\"\n",
    "        \"3. Develop a detailed content outline including \"\n",
    "            \"an introduction, key points, and a call to action.\\n\"\n",
    "        \"4. Include SEO keywords and relevant data or sources.\"\n",
    "    ),\n",
    "    expected_output=\"A comprehensive content plan document \"\n",
    "        \"with an outline, audience analysis, \"\n",
    "        \"SEO keywords, and resources.\",\n",
    "    agent=planner,\n",
    ")"
   ]
  },
  {
   "cell_type": "markdown",
   "metadata": {},
   "source": [
    "### Task: Write"
   ]
  },
  {
   "cell_type": "code",
   "execution_count": 9,
   "metadata": {
    "height": 319
   },
   "outputs": [],
   "source": [
    "write = Task(\n",
    "    description=(\n",
    "        \"1. Use the content plan to craft a compelling \"\n",
    "            \"blog post on {topic}.\\n\"\n",
    "        \"2. Incorporate SEO keywords naturally.\\n\"\n",
    "\t\t\"3. Sections/Subtitles are properly named \"\n",
    "            \"in an engaging manner.\\n\"\n",
    "        \"4. Ensure the post is structured with an \"\n",
    "            \"engaging introduction, insightful body, \"\n",
    "            \"and a summarizing conclusion.\\n\"\n",
    "        \"5. Proofread for grammatical errors and \"\n",
    "            \"alignment with the brand's voice.\\n\"\n",
    "    ),\n",
    "    expected_output=\"A well-written blog post \"\n",
    "        \"in markdown format, ready for publication, \"\n",
    "        \"each section should have 2 or 3 paragraphs.\",\n",
    "    agent=writer,\n",
    ")"
   ]
  },
  {
   "cell_type": "markdown",
   "metadata": {},
   "source": [
    "### Task: Edit"
   ]
  },
  {
   "cell_type": "code",
   "execution_count": 10,
   "metadata": {
    "height": 166
   },
   "outputs": [],
   "source": [
    "edit = Task(\n",
    "    description=(\"Proofread the given blog post for \"\n",
    "                 \"grammatical errors and \"\n",
    "                 \"alignment with the brand's voice.\"),\n",
    "    expected_output=\"A well-written blog post in markdown format, \"\n",
    "                    \"ready for publication, \"\n",
    "                    \"each section should have 2 or 3 paragraphs.\",\n",
    "    agent=editor\n",
    ")"
   ]
  },
  {
   "cell_type": "markdown",
   "metadata": {},
   "source": [
    "## Creating the Crew\n",
    "\n",
    "- Create your crew of Agents\n",
    "- Pass the tasks to be performed by those agents.\n",
    "    - **Note**: *For this simple example*, the tasks will be performed sequentially (i.e they are dependent on each other), so the _order_ of the task in the list _matters_.\n",
    "- `verbose=2` allows you to see all the logs of the execution. "
   ]
  },
  {
   "cell_type": "code",
   "execution_count": 11,
   "metadata": {
    "height": 98
   },
   "outputs": [],
   "source": [
    "crew = Crew(\n",
    "    agents=[planner, writer, editor],\n",
    "    tasks=[plan, write, edit],\n",
    "    verbose=True\n",
    ")"
   ]
  },
  {
   "cell_type": "markdown",
   "metadata": {},
   "source": [
    "## Running the Crew"
   ]
  },
  {
   "cell_type": "markdown",
   "metadata": {},
   "source": [
    "**Note**: LLMs can provide different outputs for they same input, so what you get might be different than what you see in the video."
   ]
  },
  {
   "cell_type": "code",
   "execution_count": 12,
   "metadata": {
    "height": 30
   },
   "outputs": [
    {
     "name": "stdout",
     "output_type": "stream",
     "text": [
      "\u001b[1m\u001b[95m# Agent:\u001b[00m \u001b[1m\u001b[92mContent Planner\u001b[00m\n",
      "\u001b[95m## Task:\u001b[00m \u001b[92m1. Prioritize the latest trends, key players, and noteworthy news on What are ai agents, their advantages and disadvantages, Which is better framework for buildin ai agents Langchain vs Crewai.\n",
      "2. Identify the target audience, considering their interests and pain points.\n",
      "3. Develop a detailed content outline including an introduction, key points, and a call to action.\n",
      "4. Include SEO keywords and relevant data or sources.\u001b[00m\n",
      "\n",
      "\n",
      "\u001b[1m\u001b[95m# Agent:\u001b[00m \u001b[1m\u001b[92mContent Planner\u001b[00m\n",
      "\u001b[95m## Final Answer:\u001b[00m \u001b[92m\n",
      "**Content Plan Document: AI Agents and Frameworks**\n",
      "\n",
      "**Target Audience Analysis:**\n",
      "1. **Tech Entrepreneurs and Startups** - Interested in leveraging AI agents for innovative solutions and enhancing their product capabilities. They seek cost-effective and scalable frameworks.\n",
      "2. **AI Developers and Data Scientists** - Focused on creating and deploying AI agents efficiently. They look for frameworks with robust features, community support, and easy integration.\n",
      "3. **Business Decision Makers** - Interested in understanding the business impact, advantages, and risks associated with AI agents. They value insights on strategic implementation and ROI.\n",
      "\n",
      "**Audience Pain Points:**\n",
      "- Difficulty in choosing the right framework due to rapid technological changes.\n",
      "- Balancing AI agent capabilities with data privacy and ethical concerns.\n",
      "- Ensuring cost-effectiveness while deploying AI agents at scale.\n",
      "\n",
      "**Introduction:**\n",
      "- Brief explanation of AI agents and their role in technology.\n",
      "- Contextualize the importance of selecting the right development framework.\n",
      "- Introduce Langchain and Crewai as leading frameworks for building AI agents.\n",
      "\n",
      "**Key Points:**\n",
      "\n",
      "1. **What are AI Agents?**\n",
      "   - Definition and function of AI agents.\n",
      "   - Examples of common uses (e.g., customer service, personalized recommendations).\n",
      "\n",
      "2. **Advantages of AI Agents:**\n",
      "   - Increased efficiency and automation.\n",
      "   - Ability to handle large sets of data rapidly.\n",
      "   - Enhance user experience with personalization.\n",
      "\n",
      "3. **Disadvantages of AI Agents:**\n",
      "   - Potential for bias and error propagation.\n",
      "   - High initial development and maintenance costs.\n",
      "   - Security and privacy concerns.\n",
      "\n",
      "4. **Framework Overview: Langchain vs. Crewai**\n",
      "   - Description of Langchain:\n",
      "     - Focus on language understanding and NLP applications.\n",
      "     - Strong community support and integration with existing platforms.\n",
      "   - Description of Crewai:\n",
      "     - Emphasis on creative and generative AI capabilities.\n",
      "     - Robust tools for content creation and media industries.\n",
      "\n",
      "5. **Advantages of Langchain:**\n",
      "   - Seamless integration with existing software systems.\n",
      "   - Versatile applications across industries.\n",
      "   - Supported by an active developer community for continuous updates.\n",
      "\n",
      "6. **Advantages of Crewai:**\n",
      "   - Specialized in creative applications, beneficial for media-centric projects.\n",
      "   - Provides advanced generative modeling tools.\n",
      "   - User-friendly interfaces for creative professionals.\n",
      "\n",
      "7. **Disadvantages and Challenges:**\n",
      "   - Langchain might require extensive setup and training data.\n",
      "   - Crewai possibly limited to niche creative markets, with a steeper learning curve for non-creatives.\n",
      "\n",
      "8. **Making the Right Choice:**\n",
      "   - Consideration of project objectives and industry needs.\n",
      "   - Importance of scalability, ease of use, and cost.\n",
      "   - The potential need for customization and third-party integrations.\n",
      "\n",
      "**Call to Action:**\n",
      "- Encourage readers to assess their business needs and consult with AI experts.\n",
      "- Suggest engaging with online communities or forums for firsthand user experiences.\n",
      "- Invite them to subscribe to newsletters or attend webinars to stay updated on AI trends.\n",
      "\n",
      "**SEO Keywords:**\n",
      "- AI agents\n",
      "- Langchain framework\n",
      "- Crewai framework\n",
      "- AI development\n",
      "- AI agent benefits and disadvantages\n",
      "\n",
      "**Relevant Data or Sources:**\n",
      "- Include stats from industry reports on AI adoption and market impact.\n",
      "- Case studies or success stories showcasing implementations of Langchain and Crewai.\n",
      "- Expert opinions or interviews highlighting framework benefits and weaknesses.\n",
      "\n",
      "**Resources for Writers:**\n",
      "- Official documentation and updates from Langchain and Crewai websites.\n",
      "- Tech forums such as Stack Overflow or Reddit for community insights.\n",
      "- Industry publications like MIT Technology Review or Wired for the latest trends.\n",
      "\n",
      "This content plan document is crafted to offer comprehensive insights and guide the audience effectively through the process of understanding AI agents and selecting the right framework for their needs. This will enable informed decision-making and strategic application of AI technologies.\u001b[00m\n",
      "\n",
      "\n",
      "\u001b[1m\u001b[95m# Agent:\u001b[00m \u001b[1m\u001b[92mContent Writer\u001b[00m\n",
      "\u001b[95m## Task:\u001b[00m \u001b[92m1. Use the content plan to craft a compelling blog post on What are ai agents, their advantages and disadvantages, Which is better framework for buildin ai agents Langchain vs Crewai.\n",
      "2. Incorporate SEO keywords naturally.\n",
      "3. Sections/Subtitles are properly named in an engaging manner.\n",
      "4. Ensure the post is structured with an engaging introduction, insightful body, and a summarizing conclusion.\n",
      "5. Proofread for grammatical errors and alignment with the brand's voice.\n",
      "\u001b[00m\n",
      "\n",
      "\n",
      "\u001b[1m\u001b[95m# Agent:\u001b[00m \u001b[1m\u001b[92mContent Writer\u001b[00m\n",
      "\u001b[95m## Final Answer:\u001b[00m \u001b[92m\n",
      "```markdown\n",
      "# Navigating the AI Frontier: Understanding AI Agents and Choosing Between Langchain and Crewai\n",
      "\n",
      "## Unveiling AI Agents: The Architects of Modern Automation\n",
      "\n",
      "In the evolving landscape of technology, AI agents have emerged as powerful tools driving automation and efficiency. At their core, AI agents are sophisticated software entities capable of performing tasks, making decisions, and interacting with other systems or users—often autonomously. From handling customer service inquiries to offering personalized shopping recommendations, AI agents are transforming industries by enhancing automation and improving user experience. Selecting the right framework to develop these agents is crucial, as it determines how effectively they can be deployed and integrated into existing systems. Among the numerous frameworks available, Langchain and Crewai stand out as leading options, each offering distinct advantages.\n",
      "\n",
      "## The Power of AI Agents: Efficiency Meets Personalization\n",
      "\n",
      "AI agents offer a multitude of advantages that make them indispensable in today's data-driven world. Firstly, they significantly boost efficiency by automating repetitive tasks, freeing up human resources for more strategic activities. This automation capability is essential for tech entrepreneurs and startups looking to scale their operations cost-effectively. Secondly, AI agents excel at handling vast amounts of data, enabling real-time analytics and insights that are crucial for informed decision-making. By rapidly processing large datasets, they support data scientists and AI developers in deriving meaningful conclusions and adapting strategies swiftly. Furthermore, AI agents enhance user experience through personalization, tailoring services and interactions to individual preferences, thereby increasing user satisfaction and engagement.\n",
      "\n",
      "## Weighing the Downsides: The Complexities of AI Agents\n",
      "\n",
      "Despite their remarkable capabilities, AI agents are not without challenges. A significant concern is their potential for bias, which can originate from the data they are trained on, leading to skewed decision-making. This is a pressing issue for business decision-makers, who must ensure that AI deployments are ethical and fair. Additionally, the initial development and maintenance costs of AI agents can be substantial, posing a barrier for startups or businesses with limited budgets. Security and privacy concerns also loom large, as AI agents often handle sensitive data. Safeguarding this data is paramount to maintain user trust and comply with regulatory frameworks.\n",
      "\n",
      "## Langchain vs. Crewai: An Overview of Leading Frameworks\n",
      "\n",
      "When it comes to building AI agents, choosing the right framework is imperative. Langchain is renowned for its focus on language understanding and natural language processing (NLP) applications, making it an ideal choice for projects centered around communication and language tasks. Its strong community support and seamless integration capabilities with existing platforms make it highly versatile. On the other hand, Crewai is celebrated for its creative and generative AI capabilities. It offers robust tools tailored for the content creation and media industries, providing advanced generative modeling tools that empower creatives to explore new horizons.\n",
      "\n",
      "## The Edge of Langchain: Versatility and Support\n",
      "\n",
      "Langchain's advantages lie in its versatility and robust community support. Its ability to integrate effortlessly with existing software systems across various industries makes it a preferred choice for developers seeking wide-ranging applications. This flexibility is particularly beneficial for tech entrepreneurs aiming to deploy AI agents in diverse sectors. Additionally, the active developer community surrounding Langchain ensures continuous updates and improvements, providing developers with a reliable resource for troubleshooting and innovation.\n",
      "\n",
      "## Unleashing Creativity with Crewai: Tailored for Content Innovators\n",
      "\n",
      "Crewai distinguishes itself with its specialization in creative applications, making it an invaluable asset for media-centric projects. With user-friendly interfaces, it empowers creative professionals to experiment with advanced generative modeling tools without requiring an extensive technical background. This specialization is beneficial for industries focused on content creation, where innovation and uniqueness are key differentiators. However, for non-creatives, the learning curve might be steeper, necessitating additional training and adaptation.\n",
      "\n",
      "## Challenges in Framework Selection: Making an Informed Decision\n",
      "\n",
      "Choosing between Langchain and Crewai is not without its challenges. Langchain, while versatile, may require extensive setup and significant training data, which could be a hurdle for projects with limited resources. Conversely, Crewai's niche focus on creative markets might restrict its applicability in broader contexts. It is essential for decision-makers to evaluate their project objectives, industry needs, and scalability requirements. Factors such as ease of use, cost, and the potential need for customization and third-party integrations should also guide their choice.\n",
      "\n",
      "## Conclusion: Your Next Steps in the AI Journey\n",
      "\n",
      "As AI agents continue to evolve, their potential to revolutionize industries grows exponentially. However, the selection of a development framework like Langchain or Crewai hinges on understanding specific project requirements and strategic goals. Businesses and developers are encouraged to consult AI experts, engage in online communities, and stay informed on the latest AI trends through webinars and newsletters. By making informed decisions grounded in their unique contexts, stakeholders can harness the transformative power of AI agents effectively.\n",
      "\n",
      "---\n",
      "\n",
      "_Stay ahead in the AI race—assess your needs, explore community insights, and continually update your knowledge to leverage AI agents for optimal business impact._\n",
      "\n",
      "```\n",
      "\n",
      "This blog post is meticulously crafted to engage and inform the target audience through insightful analysis. It smoothly integrates SEO keywords and aligns with the content plan, ensuring a comprehensive exploration of AI agents and the frameworks Langchain and Crewai.\u001b[00m\n",
      "\n",
      "\n",
      "\u001b[1m\u001b[95m# Agent:\u001b[00m \u001b[1m\u001b[92mEditor\u001b[00m\n",
      "\u001b[95m## Task:\u001b[00m \u001b[92mProofread the given blog post for grammatical errors and alignment with the brand's voice.\u001b[00m\n",
      "\n",
      "\n",
      "\u001b[1m\u001b[95m# Agent:\u001b[00m \u001b[1m\u001b[92mEditor\u001b[00m\n",
      "\u001b[95m## Final Answer:\u001b[00m \u001b[92m\n",
      "```markdown\n",
      "# Navigating the AI Frontier: Understanding AI Agents and Choosing Between Langchain and Crewai\n",
      "\n",
      "## Unveiling AI Agents: The Architects of Modern Automation\n",
      "\n",
      "In the evolving landscape of technology, AI agents have emerged as powerful tools driving automation and efficiency. At their core, AI agents are sophisticated software entities capable of performing tasks, making decisions, and interacting with other systems or users—often autonomously. From handling customer service inquiries to offering personalized shopping recommendations, AI agents are transforming industries by enhancing automation and improving user experience. Selecting the right framework to develop these agents is crucial, as it determines how effectively they can be deployed and integrated into existing systems. Among the numerous frameworks available, Langchain and Crewai stand out as leading options, each offering distinct advantages.\n",
      "\n",
      "## The Power of AI Agents: Efficiency Meets Personalization\n",
      "\n",
      "AI agents offer a multitude of advantages that make them indispensable in today's data-driven world. They significantly boost efficiency by automating repetitive tasks, freeing up human resources for more strategic activities. This automation capability is essential for tech entrepreneurs and startups looking to scale their operations cost-effectively. Additionally, AI agents excel at handling vast amounts of data, enabling real-time analytics and insights that are crucial for informed decision-making. By rapidly processing large datasets, they support data scientists and AI developers in deriving meaningful conclusions and adapting strategies swiftly. Furthermore, AI agents enhance user experience through personalization, tailoring services and interactions to individual preferences, thereby increasing user satisfaction and engagement.\n",
      "\n",
      "## Weighing the Downsides: The Complexities of AI Agents\n",
      "\n",
      "Despite their remarkable capabilities, AI agents are not without challenges. A significant concern is their potential for bias, which can originate from the data they are trained on, leading to skewed decision-making. This is a pressing issue for business decision makers who must ensure that AI deployments are ethical and fair. Additionally, the initial development and maintenance costs of AI agents can be substantial, posing a barrier for startups or businesses with limited budgets. Security and privacy concerns also loom large, as AI agents often handle sensitive data. Safeguarding this data is paramount to maintain user trust and comply with regulatory frameworks.\n",
      "\n",
      "## Langchain vs. Crewai: An Overview of Leading Frameworks\n",
      "\n",
      "When it comes to building AI agents, choosing the right framework is imperative. Langchain is renowned for its focus on language understanding and natural language processing (NLP) applications, making it an ideal choice for projects centered around communication and language tasks. Its strong community support and seamless integration capabilities with existing platforms make it highly versatile. On the other hand, Crewai is celebrated for its creative and generative AI capabilities. It offers robust tools tailored for the content creation and media industries, providing advanced generative modeling tools that empower creatives to explore new horizons.\n",
      "\n",
      "## The Edge of Langchain: Versatility and Support\n",
      "\n",
      "Langchain's advantages lie in its versatility and robust community support. Its ability to integrate effortlessly with existing software systems across various industries makes it a preferred choice for developers seeking wide-ranging applications. This flexibility is particularly beneficial for tech entrepreneurs aiming to deploy AI agents in diverse sectors. Additionally, the active developer community surrounding Langchain ensures continuous updates and improvements, providing developers with a reliable resource for troubleshooting and innovation.\n",
      "\n",
      "## Unleashing Creativity with Crewai: Tailored for Content Innovators\n",
      "\n",
      "Crewai distinguishes itself with its specialization in creative applications, making it an invaluable asset for media-centric projects. With user-friendly interfaces, it empowers creative professionals to experiment with advanced generative modeling tools without requiring an extensive technical background. This specialization is beneficial for industries focused on content creation, where innovation and uniqueness are key differentiators. However, for non-creatives, the learning curve might be steeper, necessitating additional training and adaptation.\n",
      "\n",
      "## Challenges in Framework Selection: Making an Informed Decision\n",
      "\n",
      "Choosing between Langchain and Crewai is not without its challenges. Langchain, while versatile, may require extensive setup and significant training data, which could be a hurdle for projects with limited resources. Conversely, Crewai's niche focus on creative markets might restrict its applicability in broader contexts. It is essential for decision-makers to evaluate their project objectives, industry needs, and scalability requirements. Factors such as ease of use, cost, and the potential need for customization and third-party integrations should also guide their choice.\n",
      "\n",
      "## Conclusion: Your Next Steps in the AI Journey\n",
      "\n",
      "As AI agents continue to evolve, their potential to revolutionize industries grows exponentially. However, the selection of a development framework like Langchain or Crewai hinges on understanding specific project requirements and strategic goals. Businesses and developers are encouraged to consult AI experts, engage in online communities, and stay informed on the latest AI trends through webinars and newsletters. By making informed decisions grounded in their unique contexts, stakeholders can harness the transformative power of AI agents effectively.\n",
      "\n",
      "---\n",
      "\n",
      "_Stay ahead in the AI race—assess your needs, explore community insights, and continually update your knowledge to leverage AI agents for optimal business impact._\n",
      "```\n",
      "\n",
      "This revision ensures adherence to grammatical standards and aligns the content closely with the brand's informative and engaging voice, ready for publication.\u001b[00m\n",
      "\n",
      "\n"
     ]
    }
   ],
   "source": [
    "result = crew.kickoff(inputs={\"topic\": \"What are ai agents, their advantages and disadvantages, Which is better framework for buildin ai agents Langchain vs Crewai\"})"
   ]
  },
  {
   "cell_type": "markdown",
   "metadata": {},
   "source": [
    "- Display the results of your execution as markdown in the notebook."
   ]
  },
  {
   "cell_type": "code",
   "execution_count": 13,
   "metadata": {},
   "outputs": [
    {
     "data": {
      "text/plain": [
       "CrewOutput(raw=\"```markdown\\n# Navigating the AI Frontier: Understanding AI Agents and Choosing Between Langchain and Crewai\\n\\n## Unveiling AI Agents: The Architects of Modern Automation\\n\\nIn the evolving landscape of technology, AI agents have emerged as powerful tools driving automation and efficiency. At their core, AI agents are sophisticated software entities capable of performing tasks, making decisions, and interacting with other systems or users—often autonomously. From handling customer service inquiries to offering personalized shopping recommendations, AI agents are transforming industries by enhancing automation and improving user experience. Selecting the right framework to develop these agents is crucial, as it determines how effectively they can be deployed and integrated into existing systems. Among the numerous frameworks available, Langchain and Crewai stand out as leading options, each offering distinct advantages.\\n\\n## The Power of AI Agents: Efficiency Meets Personalization\\n\\nAI agents offer a multitude of advantages that make them indispensable in today's data-driven world. They significantly boost efficiency by automating repetitive tasks, freeing up human resources for more strategic activities. This automation capability is essential for tech entrepreneurs and startups looking to scale their operations cost-effectively. Additionally, AI agents excel at handling vast amounts of data, enabling real-time analytics and insights that are crucial for informed decision-making. By rapidly processing large datasets, they support data scientists and AI developers in deriving meaningful conclusions and adapting strategies swiftly. Furthermore, AI agents enhance user experience through personalization, tailoring services and interactions to individual preferences, thereby increasing user satisfaction and engagement.\\n\\n## Weighing the Downsides: The Complexities of AI Agents\\n\\nDespite their remarkable capabilities, AI agents are not without challenges. A significant concern is their potential for bias, which can originate from the data they are trained on, leading to skewed decision-making. This is a pressing issue for business decision makers who must ensure that AI deployments are ethical and fair. Additionally, the initial development and maintenance costs of AI agents can be substantial, posing a barrier for startups or businesses with limited budgets. Security and privacy concerns also loom large, as AI agents often handle sensitive data. Safeguarding this data is paramount to maintain user trust and comply with regulatory frameworks.\\n\\n## Langchain vs. Crewai: An Overview of Leading Frameworks\\n\\nWhen it comes to building AI agents, choosing the right framework is imperative. Langchain is renowned for its focus on language understanding and natural language processing (NLP) applications, making it an ideal choice for projects centered around communication and language tasks. Its strong community support and seamless integration capabilities with existing platforms make it highly versatile. On the other hand, Crewai is celebrated for its creative and generative AI capabilities. It offers robust tools tailored for the content creation and media industries, providing advanced generative modeling tools that empower creatives to explore new horizons.\\n\\n## The Edge of Langchain: Versatility and Support\\n\\nLangchain's advantages lie in its versatility and robust community support. Its ability to integrate effortlessly with existing software systems across various industries makes it a preferred choice for developers seeking wide-ranging applications. This flexibility is particularly beneficial for tech entrepreneurs aiming to deploy AI agents in diverse sectors. Additionally, the active developer community surrounding Langchain ensures continuous updates and improvements, providing developers with a reliable resource for troubleshooting and innovation.\\n\\n## Unleashing Creativity with Crewai: Tailored for Content Innovators\\n\\nCrewai distinguishes itself with its specialization in creative applications, making it an invaluable asset for media-centric projects. With user-friendly interfaces, it empowers creative professionals to experiment with advanced generative modeling tools without requiring an extensive technical background. This specialization is beneficial for industries focused on content creation, where innovation and uniqueness are key differentiators. However, for non-creatives, the learning curve might be steeper, necessitating additional training and adaptation.\\n\\n## Challenges in Framework Selection: Making an Informed Decision\\n\\nChoosing between Langchain and Crewai is not without its challenges. Langchain, while versatile, may require extensive setup and significant training data, which could be a hurdle for projects with limited resources. Conversely, Crewai's niche focus on creative markets might restrict its applicability in broader contexts. It is essential for decision-makers to evaluate their project objectives, industry needs, and scalability requirements. Factors such as ease of use, cost, and the potential need for customization and third-party integrations should also guide their choice.\\n\\n## Conclusion: Your Next Steps in the AI Journey\\n\\nAs AI agents continue to evolve, their potential to revolutionize industries grows exponentially. However, the selection of a development framework like Langchain or Crewai hinges on understanding specific project requirements and strategic goals. Businesses and developers are encouraged to consult AI experts, engage in online communities, and stay informed on the latest AI trends through webinars and newsletters. By making informed decisions grounded in their unique contexts, stakeholders can harness the transformative power of AI agents effectively.\\n\\n---\\n\\n_Stay ahead in the AI race—assess your needs, explore community insights, and continually update your knowledge to leverage AI agents for optimal business impact._\\n```\\n\\nThis revision ensures adherence to grammatical standards and aligns the content closely with the brand's informative and engaging voice, ready for publication.\", pydantic=None, json_dict=None, tasks_output=[TaskOutput(description='1. Prioritize the latest trends, key players, and noteworthy news on What are ai agents, their advantages and disadvantages, Which is better framework for buildin ai agents Langchain vs Crewai.\\n2. Identify the target audience, considering their interests and pain points.\\n3. Develop a detailed content outline including an introduction, key points, and a call to action.\\n4. Include SEO keywords and relevant data or sources.', name=None, expected_output='A comprehensive content plan document with an outline, audience analysis, SEO keywords, and resources.', summary='1. Prioritize the latest trends, key players, and noteworthy news...', raw='**Content Plan Document: AI Agents and Frameworks**\\n\\n**Target Audience Analysis:**\\n1. **Tech Entrepreneurs and Startups** - Interested in leveraging AI agents for innovative solutions and enhancing their product capabilities. They seek cost-effective and scalable frameworks.\\n2. **AI Developers and Data Scientists** - Focused on creating and deploying AI agents efficiently. They look for frameworks with robust features, community support, and easy integration.\\n3. **Business Decision Makers** - Interested in understanding the business impact, advantages, and risks associated with AI agents. They value insights on strategic implementation and ROI.\\n\\n**Audience Pain Points:**\\n- Difficulty in choosing the right framework due to rapid technological changes.\\n- Balancing AI agent capabilities with data privacy and ethical concerns.\\n- Ensuring cost-effectiveness while deploying AI agents at scale.\\n\\n**Introduction:**\\n- Brief explanation of AI agents and their role in technology.\\n- Contextualize the importance of selecting the right development framework.\\n- Introduce Langchain and Crewai as leading frameworks for building AI agents.\\n\\n**Key Points:**\\n\\n1. **What are AI Agents?**\\n   - Definition and function of AI agents.\\n   - Examples of common uses (e.g., customer service, personalized recommendations).\\n\\n2. **Advantages of AI Agents:**\\n   - Increased efficiency and automation.\\n   - Ability to handle large sets of data rapidly.\\n   - Enhance user experience with personalization.\\n\\n3. **Disadvantages of AI Agents:**\\n   - Potential for bias and error propagation.\\n   - High initial development and maintenance costs.\\n   - Security and privacy concerns.\\n\\n4. **Framework Overview: Langchain vs. Crewai**\\n   - Description of Langchain:\\n     - Focus on language understanding and NLP applications.\\n     - Strong community support and integration with existing platforms.\\n   - Description of Crewai:\\n     - Emphasis on creative and generative AI capabilities.\\n     - Robust tools for content creation and media industries.\\n\\n5. **Advantages of Langchain:**\\n   - Seamless integration with existing software systems.\\n   - Versatile applications across industries.\\n   - Supported by an active developer community for continuous updates.\\n\\n6. **Advantages of Crewai:**\\n   - Specialized in creative applications, beneficial for media-centric projects.\\n   - Provides advanced generative modeling tools.\\n   - User-friendly interfaces for creative professionals.\\n\\n7. **Disadvantages and Challenges:**\\n   - Langchain might require extensive setup and training data.\\n   - Crewai possibly limited to niche creative markets, with a steeper learning curve for non-creatives.\\n\\n8. **Making the Right Choice:**\\n   - Consideration of project objectives and industry needs.\\n   - Importance of scalability, ease of use, and cost.\\n   - The potential need for customization and third-party integrations.\\n\\n**Call to Action:**\\n- Encourage readers to assess their business needs and consult with AI experts.\\n- Suggest engaging with online communities or forums for firsthand user experiences.\\n- Invite them to subscribe to newsletters or attend webinars to stay updated on AI trends.\\n\\n**SEO Keywords:**\\n- AI agents\\n- Langchain framework\\n- Crewai framework\\n- AI development\\n- AI agent benefits and disadvantages\\n\\n**Relevant Data or Sources:**\\n- Include stats from industry reports on AI adoption and market impact.\\n- Case studies or success stories showcasing implementations of Langchain and Crewai.\\n- Expert opinions or interviews highlighting framework benefits and weaknesses.\\n\\n**Resources for Writers:**\\n- Official documentation and updates from Langchain and Crewai websites.\\n- Tech forums such as Stack Overflow or Reddit for community insights.\\n- Industry publications like MIT Technology Review or Wired for the latest trends.\\n\\nThis content plan document is crafted to offer comprehensive insights and guide the audience effectively through the process of understanding AI agents and selecting the right framework for their needs. This will enable informed decision-making and strategic application of AI technologies.', pydantic=None, json_dict=None, agent='Content Planner', output_format=<OutputFormat.RAW: 'raw'>), TaskOutput(description=\"1. Use the content plan to craft a compelling blog post on What are ai agents, their advantages and disadvantages, Which is better framework for buildin ai agents Langchain vs Crewai.\\n2. Incorporate SEO keywords naturally.\\n3. Sections/Subtitles are properly named in an engaging manner.\\n4. Ensure the post is structured with an engaging introduction, insightful body, and a summarizing conclusion.\\n5. Proofread for grammatical errors and alignment with the brand's voice.\\n\", name=None, expected_output='A well-written blog post in markdown format, ready for publication, each section should have 2 or 3 paragraphs.', summary='1. Use the content plan to craft a compelling blog...', raw=\"```markdown\\n# Navigating the AI Frontier: Understanding AI Agents and Choosing Between Langchain and Crewai\\n\\n## Unveiling AI Agents: The Architects of Modern Automation\\n\\nIn the evolving landscape of technology, AI agents have emerged as powerful tools driving automation and efficiency. At their core, AI agents are sophisticated software entities capable of performing tasks, making decisions, and interacting with other systems or users—often autonomously. From handling customer service inquiries to offering personalized shopping recommendations, AI agents are transforming industries by enhancing automation and improving user experience. Selecting the right framework to develop these agents is crucial, as it determines how effectively they can be deployed and integrated into existing systems. Among the numerous frameworks available, Langchain and Crewai stand out as leading options, each offering distinct advantages.\\n\\n## The Power of AI Agents: Efficiency Meets Personalization\\n\\nAI agents offer a multitude of advantages that make them indispensable in today's data-driven world. Firstly, they significantly boost efficiency by automating repetitive tasks, freeing up human resources for more strategic activities. This automation capability is essential for tech entrepreneurs and startups looking to scale their operations cost-effectively. Secondly, AI agents excel at handling vast amounts of data, enabling real-time analytics and insights that are crucial for informed decision-making. By rapidly processing large datasets, they support data scientists and AI developers in deriving meaningful conclusions and adapting strategies swiftly. Furthermore, AI agents enhance user experience through personalization, tailoring services and interactions to individual preferences, thereby increasing user satisfaction and engagement.\\n\\n## Weighing the Downsides: The Complexities of AI Agents\\n\\nDespite their remarkable capabilities, AI agents are not without challenges. A significant concern is their potential for bias, which can originate from the data they are trained on, leading to skewed decision-making. This is a pressing issue for business decision-makers, who must ensure that AI deployments are ethical and fair. Additionally, the initial development and maintenance costs of AI agents can be substantial, posing a barrier for startups or businesses with limited budgets. Security and privacy concerns also loom large, as AI agents often handle sensitive data. Safeguarding this data is paramount to maintain user trust and comply with regulatory frameworks.\\n\\n## Langchain vs. Crewai: An Overview of Leading Frameworks\\n\\nWhen it comes to building AI agents, choosing the right framework is imperative. Langchain is renowned for its focus on language understanding and natural language processing (NLP) applications, making it an ideal choice for projects centered around communication and language tasks. Its strong community support and seamless integration capabilities with existing platforms make it highly versatile. On the other hand, Crewai is celebrated for its creative and generative AI capabilities. It offers robust tools tailored for the content creation and media industries, providing advanced generative modeling tools that empower creatives to explore new horizons.\\n\\n## The Edge of Langchain: Versatility and Support\\n\\nLangchain's advantages lie in its versatility and robust community support. Its ability to integrate effortlessly with existing software systems across various industries makes it a preferred choice for developers seeking wide-ranging applications. This flexibility is particularly beneficial for tech entrepreneurs aiming to deploy AI agents in diverse sectors. Additionally, the active developer community surrounding Langchain ensures continuous updates and improvements, providing developers with a reliable resource for troubleshooting and innovation.\\n\\n## Unleashing Creativity with Crewai: Tailored for Content Innovators\\n\\nCrewai distinguishes itself with its specialization in creative applications, making it an invaluable asset for media-centric projects. With user-friendly interfaces, it empowers creative professionals to experiment with advanced generative modeling tools without requiring an extensive technical background. This specialization is beneficial for industries focused on content creation, where innovation and uniqueness are key differentiators. However, for non-creatives, the learning curve might be steeper, necessitating additional training and adaptation.\\n\\n## Challenges in Framework Selection: Making an Informed Decision\\n\\nChoosing between Langchain and Crewai is not without its challenges. Langchain, while versatile, may require extensive setup and significant training data, which could be a hurdle for projects with limited resources. Conversely, Crewai's niche focus on creative markets might restrict its applicability in broader contexts. It is essential for decision-makers to evaluate their project objectives, industry needs, and scalability requirements. Factors such as ease of use, cost, and the potential need for customization and third-party integrations should also guide their choice.\\n\\n## Conclusion: Your Next Steps in the AI Journey\\n\\nAs AI agents continue to evolve, their potential to revolutionize industries grows exponentially. However, the selection of a development framework like Langchain or Crewai hinges on understanding specific project requirements and strategic goals. Businesses and developers are encouraged to consult AI experts, engage in online communities, and stay informed on the latest AI trends through webinars and newsletters. By making informed decisions grounded in their unique contexts, stakeholders can harness the transformative power of AI agents effectively.\\n\\n---\\n\\n_Stay ahead in the AI race—assess your needs, explore community insights, and continually update your knowledge to leverage AI agents for optimal business impact._\\n\\n```\\n\\nThis blog post is meticulously crafted to engage and inform the target audience through insightful analysis. It smoothly integrates SEO keywords and aligns with the content plan, ensuring a comprehensive exploration of AI agents and the frameworks Langchain and Crewai.\", pydantic=None, json_dict=None, agent='Content Writer', output_format=<OutputFormat.RAW: 'raw'>), TaskOutput(description=\"Proofread the given blog post for grammatical errors and alignment with the brand's voice.\", name=None, expected_output='A well-written blog post in markdown format, ready for publication, each section should have 2 or 3 paragraphs.', summary='Proofread the given blog post for grammatical errors and alignment...', raw=\"```markdown\\n# Navigating the AI Frontier: Understanding AI Agents and Choosing Between Langchain and Crewai\\n\\n## Unveiling AI Agents: The Architects of Modern Automation\\n\\nIn the evolving landscape of technology, AI agents have emerged as powerful tools driving automation and efficiency. At their core, AI agents are sophisticated software entities capable of performing tasks, making decisions, and interacting with other systems or users—often autonomously. From handling customer service inquiries to offering personalized shopping recommendations, AI agents are transforming industries by enhancing automation and improving user experience. Selecting the right framework to develop these agents is crucial, as it determines how effectively they can be deployed and integrated into existing systems. Among the numerous frameworks available, Langchain and Crewai stand out as leading options, each offering distinct advantages.\\n\\n## The Power of AI Agents: Efficiency Meets Personalization\\n\\nAI agents offer a multitude of advantages that make them indispensable in today's data-driven world. They significantly boost efficiency by automating repetitive tasks, freeing up human resources for more strategic activities. This automation capability is essential for tech entrepreneurs and startups looking to scale their operations cost-effectively. Additionally, AI agents excel at handling vast amounts of data, enabling real-time analytics and insights that are crucial for informed decision-making. By rapidly processing large datasets, they support data scientists and AI developers in deriving meaningful conclusions and adapting strategies swiftly. Furthermore, AI agents enhance user experience through personalization, tailoring services and interactions to individual preferences, thereby increasing user satisfaction and engagement.\\n\\n## Weighing the Downsides: The Complexities of AI Agents\\n\\nDespite their remarkable capabilities, AI agents are not without challenges. A significant concern is their potential for bias, which can originate from the data they are trained on, leading to skewed decision-making. This is a pressing issue for business decision makers who must ensure that AI deployments are ethical and fair. Additionally, the initial development and maintenance costs of AI agents can be substantial, posing a barrier for startups or businesses with limited budgets. Security and privacy concerns also loom large, as AI agents often handle sensitive data. Safeguarding this data is paramount to maintain user trust and comply with regulatory frameworks.\\n\\n## Langchain vs. Crewai: An Overview of Leading Frameworks\\n\\nWhen it comes to building AI agents, choosing the right framework is imperative. Langchain is renowned for its focus on language understanding and natural language processing (NLP) applications, making it an ideal choice for projects centered around communication and language tasks. Its strong community support and seamless integration capabilities with existing platforms make it highly versatile. On the other hand, Crewai is celebrated for its creative and generative AI capabilities. It offers robust tools tailored for the content creation and media industries, providing advanced generative modeling tools that empower creatives to explore new horizons.\\n\\n## The Edge of Langchain: Versatility and Support\\n\\nLangchain's advantages lie in its versatility and robust community support. Its ability to integrate effortlessly with existing software systems across various industries makes it a preferred choice for developers seeking wide-ranging applications. This flexibility is particularly beneficial for tech entrepreneurs aiming to deploy AI agents in diverse sectors. Additionally, the active developer community surrounding Langchain ensures continuous updates and improvements, providing developers with a reliable resource for troubleshooting and innovation.\\n\\n## Unleashing Creativity with Crewai: Tailored for Content Innovators\\n\\nCrewai distinguishes itself with its specialization in creative applications, making it an invaluable asset for media-centric projects. With user-friendly interfaces, it empowers creative professionals to experiment with advanced generative modeling tools without requiring an extensive technical background. This specialization is beneficial for industries focused on content creation, where innovation and uniqueness are key differentiators. However, for non-creatives, the learning curve might be steeper, necessitating additional training and adaptation.\\n\\n## Challenges in Framework Selection: Making an Informed Decision\\n\\nChoosing between Langchain and Crewai is not without its challenges. Langchain, while versatile, may require extensive setup and significant training data, which could be a hurdle for projects with limited resources. Conversely, Crewai's niche focus on creative markets might restrict its applicability in broader contexts. It is essential for decision-makers to evaluate their project objectives, industry needs, and scalability requirements. Factors such as ease of use, cost, and the potential need for customization and third-party integrations should also guide their choice.\\n\\n## Conclusion: Your Next Steps in the AI Journey\\n\\nAs AI agents continue to evolve, their potential to revolutionize industries grows exponentially. However, the selection of a development framework like Langchain or Crewai hinges on understanding specific project requirements and strategic goals. Businesses and developers are encouraged to consult AI experts, engage in online communities, and stay informed on the latest AI trends through webinars and newsletters. By making informed decisions grounded in their unique contexts, stakeholders can harness the transformative power of AI agents effectively.\\n\\n---\\n\\n_Stay ahead in the AI race—assess your needs, explore community insights, and continually update your knowledge to leverage AI agents for optimal business impact._\\n```\\n\\nThis revision ensures adherence to grammatical standards and aligns the content closely with the brand's informative and engaging voice, ready for publication.\", pydantic=None, json_dict=None, agent='Editor', output_format=<OutputFormat.RAW: 'raw'>)], token_usage=UsageMetrics(total_tokens=12626, prompt_tokens=6626, completion_tokens=6000, successful_requests=6))"
      ]
     },
     "execution_count": 13,
     "metadata": {},
     "output_type": "execute_result"
    }
   ],
   "source": [
    "result"
   ]
  },
  {
   "cell_type": "code",
   "execution_count": 14,
   "metadata": {},
   "outputs": [
    {
     "data": {
      "text/plain": [
       "\"```markdown\\n# Navigating the AI Frontier: Understanding AI Agents and Choosing Between Langchain and Crewai\\n\\n## Unveiling AI Agents: The Architects of Modern Automation\\n\\nIn the evolving landscape of technology, AI agents have emerged as powerful tools driving automation and efficiency. At their core, AI agents are sophisticated software entities capable of performing tasks, making decisions, and interacting with other systems or users—often autonomously. From handling customer service inquiries to offering personalized shopping recommendations, AI agents are transforming industries by enhancing automation and improving user experience. Selecting the right framework to develop these agents is crucial, as it determines how effectively they can be deployed and integrated into existing systems. Among the numerous frameworks available, Langchain and Crewai stand out as leading options, each offering distinct advantages.\\n\\n## The Power of AI Agents: Efficiency Meets Personalization\\n\\nAI agents offer a multitude of advantages that make them indispensable in today's data-driven world. They significantly boost efficiency by automating repetitive tasks, freeing up human resources for more strategic activities. This automation capability is essential for tech entrepreneurs and startups looking to scale their operations cost-effectively. Additionally, AI agents excel at handling vast amounts of data, enabling real-time analytics and insights that are crucial for informed decision-making. By rapidly processing large datasets, they support data scientists and AI developers in deriving meaningful conclusions and adapting strategies swiftly. Furthermore, AI agents enhance user experience through personalization, tailoring services and interactions to individual preferences, thereby increasing user satisfaction and engagement.\\n\\n## Weighing the Downsides: The Complexities of AI Agents\\n\\nDespite their remarkable capabilities, AI agents are not without challenges. A significant concern is their potential for bias, which can originate from the data they are trained on, leading to skewed decision-making. This is a pressing issue for business decision makers who must ensure that AI deployments are ethical and fair. Additionally, the initial development and maintenance costs of AI agents can be substantial, posing a barrier for startups or businesses with limited budgets. Security and privacy concerns also loom large, as AI agents often handle sensitive data. Safeguarding this data is paramount to maintain user trust and comply with regulatory frameworks.\\n\\n## Langchain vs. Crewai: An Overview of Leading Frameworks\\n\\nWhen it comes to building AI agents, choosing the right framework is imperative. Langchain is renowned for its focus on language understanding and natural language processing (NLP) applications, making it an ideal choice for projects centered around communication and language tasks. Its strong community support and seamless integration capabilities with existing platforms make it highly versatile. On the other hand, Crewai is celebrated for its creative and generative AI capabilities. It offers robust tools tailored for the content creation and media industries, providing advanced generative modeling tools that empower creatives to explore new horizons.\\n\\n## The Edge of Langchain: Versatility and Support\\n\\nLangchain's advantages lie in its versatility and robust community support. Its ability to integrate effortlessly with existing software systems across various industries makes it a preferred choice for developers seeking wide-ranging applications. This flexibility is particularly beneficial for tech entrepreneurs aiming to deploy AI agents in diverse sectors. Additionally, the active developer community surrounding Langchain ensures continuous updates and improvements, providing developers with a reliable resource for troubleshooting and innovation.\\n\\n## Unleashing Creativity with Crewai: Tailored for Content Innovators\\n\\nCrewai distinguishes itself with its specialization in creative applications, making it an invaluable asset for media-centric projects. With user-friendly interfaces, it empowers creative professionals to experiment with advanced generative modeling tools without requiring an extensive technical background. This specialization is beneficial for industries focused on content creation, where innovation and uniqueness are key differentiators. However, for non-creatives, the learning curve might be steeper, necessitating additional training and adaptation.\\n\\n## Challenges in Framework Selection: Making an Informed Decision\\n\\nChoosing between Langchain and Crewai is not without its challenges. Langchain, while versatile, may require extensive setup and significant training data, which could be a hurdle for projects with limited resources. Conversely, Crewai's niche focus on creative markets might restrict its applicability in broader contexts. It is essential for decision-makers to evaluate their project objectives, industry needs, and scalability requirements. Factors such as ease of use, cost, and the potential need for customization and third-party integrations should also guide their choice.\\n\\n## Conclusion: Your Next Steps in the AI Journey\\n\\nAs AI agents continue to evolve, their potential to revolutionize industries grows exponentially. However, the selection of a development framework like Langchain or Crewai hinges on understanding specific project requirements and strategic goals. Businesses and developers are encouraged to consult AI experts, engage in online communities, and stay informed on the latest AI trends through webinars and newsletters. By making informed decisions grounded in their unique contexts, stakeholders can harness the transformative power of AI agents effectively.\\n\\n---\\n\\n_Stay ahead in the AI race—assess your needs, explore community insights, and continually update your knowledge to leverage AI agents for optimal business impact._\\n```\\n\\nThis revision ensures adherence to grammatical standards and aligns the content closely with the brand's informative and engaging voice, ready for publication.\""
      ]
     },
     "execution_count": 14,
     "metadata": {},
     "output_type": "execute_result"
    }
   ],
   "source": [
    "result.raw"
   ]
  },
  {
   "cell_type": "code",
   "execution_count": 15,
   "metadata": {
    "height": 47
   },
   "outputs": [
    {
     "data": {
      "text/markdown": [
       "```markdown\n",
       "# Navigating the AI Frontier: Understanding AI Agents and Choosing Between Langchain and Crewai\n",
       "\n",
       "## Unveiling AI Agents: The Architects of Modern Automation\n",
       "\n",
       "In the evolving landscape of technology, AI agents have emerged as powerful tools driving automation and efficiency. At their core, AI agents are sophisticated software entities capable of performing tasks, making decisions, and interacting with other systems or users—often autonomously. From handling customer service inquiries to offering personalized shopping recommendations, AI agents are transforming industries by enhancing automation and improving user experience. Selecting the right framework to develop these agents is crucial, as it determines how effectively they can be deployed and integrated into existing systems. Among the numerous frameworks available, Langchain and Crewai stand out as leading options, each offering distinct advantages.\n",
       "\n",
       "## The Power of AI Agents: Efficiency Meets Personalization\n",
       "\n",
       "AI agents offer a multitude of advantages that make them indispensable in today's data-driven world. They significantly boost efficiency by automating repetitive tasks, freeing up human resources for more strategic activities. This automation capability is essential for tech entrepreneurs and startups looking to scale their operations cost-effectively. Additionally, AI agents excel at handling vast amounts of data, enabling real-time analytics and insights that are crucial for informed decision-making. By rapidly processing large datasets, they support data scientists and AI developers in deriving meaningful conclusions and adapting strategies swiftly. Furthermore, AI agents enhance user experience through personalization, tailoring services and interactions to individual preferences, thereby increasing user satisfaction and engagement.\n",
       "\n",
       "## Weighing the Downsides: The Complexities of AI Agents\n",
       "\n",
       "Despite their remarkable capabilities, AI agents are not without challenges. A significant concern is their potential for bias, which can originate from the data they are trained on, leading to skewed decision-making. This is a pressing issue for business decision makers who must ensure that AI deployments are ethical and fair. Additionally, the initial development and maintenance costs of AI agents can be substantial, posing a barrier for startups or businesses with limited budgets. Security and privacy concerns also loom large, as AI agents often handle sensitive data. Safeguarding this data is paramount to maintain user trust and comply with regulatory frameworks.\n",
       "\n",
       "## Langchain vs. Crewai: An Overview of Leading Frameworks\n",
       "\n",
       "When it comes to building AI agents, choosing the right framework is imperative. Langchain is renowned for its focus on language understanding and natural language processing (NLP) applications, making it an ideal choice for projects centered around communication and language tasks. Its strong community support and seamless integration capabilities with existing platforms make it highly versatile. On the other hand, Crewai is celebrated for its creative and generative AI capabilities. It offers robust tools tailored for the content creation and media industries, providing advanced generative modeling tools that empower creatives to explore new horizons.\n",
       "\n",
       "## The Edge of Langchain: Versatility and Support\n",
       "\n",
       "Langchain's advantages lie in its versatility and robust community support. Its ability to integrate effortlessly with existing software systems across various industries makes it a preferred choice for developers seeking wide-ranging applications. This flexibility is particularly beneficial for tech entrepreneurs aiming to deploy AI agents in diverse sectors. Additionally, the active developer community surrounding Langchain ensures continuous updates and improvements, providing developers with a reliable resource for troubleshooting and innovation.\n",
       "\n",
       "## Unleashing Creativity with Crewai: Tailored for Content Innovators\n",
       "\n",
       "Crewai distinguishes itself with its specialization in creative applications, making it an invaluable asset for media-centric projects. With user-friendly interfaces, it empowers creative professionals to experiment with advanced generative modeling tools without requiring an extensive technical background. This specialization is beneficial for industries focused on content creation, where innovation and uniqueness are key differentiators. However, for non-creatives, the learning curve might be steeper, necessitating additional training and adaptation.\n",
       "\n",
       "## Challenges in Framework Selection: Making an Informed Decision\n",
       "\n",
       "Choosing between Langchain and Crewai is not without its challenges. Langchain, while versatile, may require extensive setup and significant training data, which could be a hurdle for projects with limited resources. Conversely, Crewai's niche focus on creative markets might restrict its applicability in broader contexts. It is essential for decision-makers to evaluate their project objectives, industry needs, and scalability requirements. Factors such as ease of use, cost, and the potential need for customization and third-party integrations should also guide their choice.\n",
       "\n",
       "## Conclusion: Your Next Steps in the AI Journey\n",
       "\n",
       "As AI agents continue to evolve, their potential to revolutionize industries grows exponentially. However, the selection of a development framework like Langchain or Crewai hinges on understanding specific project requirements and strategic goals. Businesses and developers are encouraged to consult AI experts, engage in online communities, and stay informed on the latest AI trends through webinars and newsletters. By making informed decisions grounded in their unique contexts, stakeholders can harness the transformative power of AI agents effectively.\n",
       "\n",
       "---\n",
       "\n",
       "_Stay ahead in the AI race—assess your needs, explore community insights, and continually update your knowledge to leverage AI agents for optimal business impact._\n",
       "```\n",
       "\n",
       "This revision ensures adherence to grammatical standards and aligns the content closely with the brand's informative and engaging voice, ready for publication."
      ],
      "text/plain": [
       "<IPython.core.display.Markdown object>"
      ]
     },
     "execution_count": 15,
     "metadata": {},
     "output_type": "execute_result"
    }
   ],
   "source": [
    "from IPython.display import Markdown\n",
    "Markdown(result.raw)"
   ]
  },
  {
   "cell_type": "markdown",
   "metadata": {},
   "source": [
    "## Try it Yourself\n",
    "\n",
    "- Pass in a topic of your choice and see what the agents come up with!"
   ]
  },
  {
   "cell_type": "code",
   "execution_count": 16,
   "metadata": {},
   "outputs": [
    {
     "ename": "NameError",
     "evalue": "name 'stop' is not defined",
     "output_type": "error",
     "traceback": [
      "\u001b[1;31m---------------------------------------------------------------------------\u001b[0m",
      "\u001b[1;31mNameError\u001b[0m                                 Traceback (most recent call last)",
      "Cell \u001b[1;32mIn[16], line 1\u001b[0m\n\u001b[1;32m----> 1\u001b[0m \u001b[43mstop\u001b[49m\n",
      "\u001b[1;31mNameError\u001b[0m: name 'stop' is not defined"
     ]
    }
   ],
   "source": [
    "stop"
   ]
  },
  {
   "cell_type": "code",
   "execution_count": null,
   "metadata": {
    "height": 47
   },
   "outputs": [],
   "source": [
    "topic = \"Which is better tool for buildin ai agents Langchain vs Crewai\"\n",
    "result = crew.kickoff(inputs={\"topic\": topic})"
   ]
  },
  {
   "cell_type": "code",
   "execution_count": null,
   "metadata": {
    "height": 30
   },
   "outputs": [],
   "source": [
    "Markdown(result)"
   ]
  },
  {
   "cell_type": "markdown",
   "metadata": {},
   "source": [
    "<a name='1'></a>\n",
    " ## Other Popular Models as LLM for your Agents"
   ]
  },
  {
   "cell_type": "markdown",
   "metadata": {},
   "source": [
    "#### Hugging Face (HuggingFaceHub endpoint)\n",
    "\n",
    "```Python\n",
    "from langchain_community.llms import HuggingFaceHub\n",
    "\n",
    "llm = HuggingFaceHub(\n",
    "    repo_id=\"HuggingFaceH4/zephyr-7b-beta\",\n",
    "    huggingfacehub_api_token=\"<HF_TOKEN_HERE>\",\n",
    "    task=\"text-generation\",\n",
    ")\n",
    "\n",
    "### you will pass \"llm\" to your agent function\n",
    "```"
   ]
  },
  {
   "cell_type": "markdown",
   "metadata": {},
   "source": [
    "#### Mistral API\n",
    "\n",
    "```Python\n",
    "OPENAI_API_KEY=your-mistral-api-key\n",
    "OPENAI_API_BASE=https://api.mistral.ai/v1\n",
    "OPENAI_MODEL_NAME=\"mistral-small\"\n",
    "```"
   ]
  },
  {
   "cell_type": "markdown",
   "metadata": {},
   "source": [
    "#### Cohere\n",
    "\n",
    "```Python\n",
    "from langchain_community.chat_models import ChatCohere\n",
    "# Initialize language model\n",
    "os.environ[\"COHERE_API_KEY\"] = \"your-cohere-api-key\"\n",
    "llm = ChatCohere()\n",
    "\n",
    "### you will pass \"llm\" to your agent function\n",
    "```"
   ]
  },
  {
   "cell_type": "markdown",
   "metadata": {},
   "source": [
    "### For using Llama locally with Ollama and more, checkout the crewAI documentation on [Connecting to any LLM](https://docs.crewai.com/how-to/LLM-Connections/)."
   ]
  },
  {
   "cell_type": "code",
   "execution_count": null,
   "metadata": {
    "height": 30
   },
   "outputs": [],
   "source": []
  },
  {
   "cell_type": "code",
   "execution_count": null,
   "metadata": {
    "height": 30
   },
   "outputs": [],
   "source": []
  },
  {
   "cell_type": "code",
   "execution_count": null,
   "metadata": {
    "height": 30
   },
   "outputs": [],
   "source": []
  }
 ],
 "metadata": {
  "colab": {
   "gpuType": "T4",
   "provenance": []
  },
  "kernelspec": {
   "display_name": "Python 3 (ipykernel)",
   "language": "python",
   "name": "python3"
  },
  "language_info": {
   "codemirror_mode": {
    "name": "ipython",
    "version": 3
   },
   "file_extension": ".py",
   "mimetype": "text/x-python",
   "name": "python",
   "nbconvert_exporter": "python",
   "pygments_lexer": "ipython3",
   "version": "3.11.1"
  }
 },
 "nbformat": 4,
 "nbformat_minor": 4
}
